{
 "cells": [
  {
   "cell_type": "code",
   "execution_count": 7,
   "metadata": {
    "collapsed": false
   },
   "outputs": [
    {
     "name": "stdout",
     "output_type": "stream",
     "text": [
      "a 34\n",
      "b 35\n"
     ]
    }
   ],
   "source": [
    "# 5. Determine os MDC:\n",
    "# a)\n",
    "a = 24140\n",
    "b = 16762\n",
    "m = gcd(a, b)\n",
    "print('a', m)\n",
    "# b)\n",
    "c = 4655\n",
    "d = 12075\n",
    "m2 = gcd(c, d)\n",
    "print('b', m2)"
   ]
  },
  {
   "cell_type": "code",
   "execution_count": 6,
   "metadata": {
    "collapsed": false
   },
   "outputs": [
    {
     "name": "stdout",
     "output_type": "stream",
     "text": [
      "a 1 -1082 309\n",
      "b 34 -571 337\n",
      "c 1 550 -171\n"
     ]
    }
   ],
   "source": [
    "# 6 Usando o algoritmo de Euclides estendido, encontre o inverso multiplicativo de:\n",
    "# (a) 1234 mod 4321;\n",
    "x = 1234\n",
    "y = 4321\n",
    "\n",
    "d, a, b = xgcd(x, y)\n",
    "\n",
    "print('a', d, a, b)\n",
    "\n",
    "# (b) 24140 mod 40902;\n",
    "x = 24140\n",
    "y = 40902\n",
    "\n",
    "d, a, b = xgcd(x, y)\n",
    "\n",
    "print('b', d, a, b)\n",
    "\n",
    "# (c) 550 mod 1769.\n",
    "x = 550\n",
    "y = 1769\n",
    "\n",
    "d, a, b = xgcd(x, y)\n",
    "\n",
    "print('c', d, a, b)"
   ]
  },
  {
   "cell_type": "code",
   "execution_count": 9,
   "metadata": {
    "collapsed": false
   },
   "outputs": [
    {
     "name": "stdout",
     "output_type": "stream",
     "text": [
      "Inverso multiplicativo de f é:  x^2 + 1\n"
     ]
    }
   ],
   "source": [
    "# 7. Determine o inverso multiplicativo de x3 + x + 1 em GF(24), com m(x) = x4 + x + 1.\n",
    "R.<x> = PolynomialRing(GF(2), 'x')\n",
    "m = x^4 + x + 1\n",
    "\n",
    "# Polinômio original\n",
    "f = x^3 + x + 1\n",
    "\n",
    "# Aplicar o algoritmo de Euclides estendido\n",
    "d, u, v = xgcd(f, m)\n",
    "\n",
    "# Calcular o inverso multiplicativo\n",
    "inverse = u % m\n",
    "\n",
    "# Saída do resultado\n",
    "print(\"Inverso multiplicativo de f é: \", inverse)"
   ]
  },
  {
   "cell_type": "code",
   "execution_count": 14,
   "metadata": {
    "collapsed": false
   },
   "outputs": [
    {
     "name": "stdout",
     "output_type": "stream",
     "text": [
      "Resultado: -x^2 + 7*x - 3\n",
      "Resultado: x^2 + x + 1\n"
     ]
    }
   ],
   "source": [
    "# 8. Para a aritmética de polinômios com coeficientes em Z10, realize os seguintes cálculos\n",
    "# a\n",
    "R.<x> = PolynomialRing(ZZ['x'])\n",
    "\n",
    "p1 = 7*x + 2\n",
    "p2 = x^2 + 5\n",
    "\n",
    "r = p1 - p2\n",
    "\n",
    "print(\"Resultado:\", r)\n",
    "\n",
    "# b\n",
    "p1 = 6*x^2 + x + 3\n",
    "p2 = 5*x^2 + 2\n",
    "r = p1 - p2\n",
    "print(\"Resultado:\", r)\n",
    "\n"
   ]
  },
  {
   "cell_type": "code",
   "execution_count": 15,
   "metadata": {
    "collapsed": false
   },
   "outputs": [
    {
     "name": "stdout",
     "output_type": "stream",
     "text": [
      "Soma: 0\n",
      "Subtração: 4\n",
      "Multiplicação: 12\n",
      "Divisão: 6\n"
     ]
    }
   ],
   "source": [
    "# 9. Estruture uma calculadora simples de quatro funções em GF(24). Você pode usar uma tabela\n",
    "# com valores pré-calculados para os inversos multiplicativos.\n",
    "\n",
    "inversos_multiplicativos = {\n",
    "    0: None,\n",
    "    1: 1,\n",
    "    2: 9,\n",
    "    3: 13,\n",
    "    4: 11,\n",
    "    5: 3,\n",
    "    6: 7,\n",
    "    7: 5,\n",
    "    8: 15,\n",
    "    9: 2,\n",
    "    10: 8,\n",
    "    11: 4,\n",
    "    12: 14,\n",
    "    13: 6,\n",
    "    14: 12,\n",
    "    15: 10\n",
    "}\n",
    "\n",
    "# Função para adição em GF(2^4)\n",
    "def add(a, b):\n",
    "    return (a + b) % 16\n",
    "\n",
    "# Função para subtração em GF(2^4)\n",
    "def subtract(a, b):\n",
    "    return (a - b) % 16\n",
    "\n",
    "# Função para multiplicação em GF(2^4)\n",
    "def multiply(a, b):\n",
    "    if a == 0 or b == 0:\n",
    "        return 0\n",
    "    return (a * b) % 16\n",
    "\n",
    "# Função para divisão em GF(2^4)\n",
    "def divide(a, b):\n",
    "    if b == 0:\n",
    "        raise ZeroDivisionError(\"Divisão por zero não é permitida.\")\n",
    "    inverso_b = inversos_multiplicativos[b]\n",
    "    if inverso_b is None:\n",
    "        raise ValueError(\"Não é possível encontrar o inverso multiplicativo de zero.\")\n",
    "    return multiply(a, inverso_b)\n",
    "\n",
    "# Exemplo de uso da calculadora\n",
    "a = 10\n",
    "b = 6\n",
    "\n",
    "# Operações\n",
    "soma = add(a, b)\n",
    "subtracao = subtract(a, b)\n",
    "multiplicacao = multiply(a, b)\n",
    "divisao = divide(a, b)\n",
    "\n",
    "# Saída dos resultados\n",
    "print(\"Soma:\", soma)\n",
    "print(\"Subtração:\", subtracao)\n",
    "print(\"Multiplicação:\", multiplicacao)\n",
    "print(\"Divisão:\", divisao)"
   ]
  },
  {
   "cell_type": "code",
   "execution_count": 0,
   "metadata": {
    "collapsed": false
   },
   "outputs": [
   ],
   "source": [
   ]
  }
 ],
 "metadata": {
  "kernelspec": {
   "argv": [
    "sage-10.0",
    "--python",
    "-m",
    "sage.repl.ipython_kernel",
    "--matplotlib=inline",
    "-f",
    "{connection_file}"
   ],
   "display_name": "SageMath 10.0",
   "env": {
   },
   "language": "sagemath",
   "metadata": {
    "cocalc": {
     "description": "Open-source mathematical software system",
     "priority": 10,
     "url": "https://www.sagemath.org/"
    }
   },
   "name": "sage-10.0",
   "resource_dir": "/ext/jupyter/kernels/sage-10.0"
  },
  "language_info": {
   "codemirror_mode": {
    "name": "ipython",
    "version": 3
   },
   "file_extension": ".py",
   "mimetype": "text/x-python",
   "name": "python",
   "nbconvert_exporter": "python",
   "pygments_lexer": "ipython3",
   "version": "3.11.1"
  }
 },
 "nbformat": 4,
 "nbformat_minor": 4
}